{
 "cells": [
  {
   "cell_type": "markdown",
   "metadata": {},
   "source": [
    "# Bayesian Logistic Regression with PyMC3\n",
    "\n",
    "In this notebook we will be using pymc3 to examine posterior probability distributions for the parameters in logistic regression for classification.\n",
    "\n",
    "We start by importing our required libraries."
   ]
  },
  {
   "cell_type": "code",
   "execution_count": 2,
   "metadata": {
    "_cell_guid": "b1076dfc-b9ad-4769-8c92-a6c4dae69d19",
    "_uuid": "8f2839f25d086af736a60e9eeb907d3b93b6e0e5",
    "execution": {
     "iopub.execute_input": "2023-05-22T15:32:57.551935Z",
     "iopub.status.busy": "2023-05-22T15:32:57.551551Z",
     "iopub.status.idle": "2023-05-22T15:32:57.558322Z",
     "shell.execute_reply": "2023-05-22T15:32:57.556988Z",
     "shell.execute_reply.started": "2023-05-22T15:32:57.551890Z"
    }
   },
   "outputs": [],
   "source": [
    "# This is a simple example of using pymc3 for Bayesian inference of the parameter distribution.\n",
    "# written by William F Basener\n",
    "# University of Virginia\n",
    "\n",
    "import pymc3 as pm\n",
    "import pandas as pd\n",
    "import numpy as np\n",
    "\n",
    "import seaborn as sns\n",
    "import matplotlib.pyplot as plt"
   ]
  },
  {
   "cell_type": "code",
   "execution_count": 3,
   "metadata": {
    "execution": {
     "iopub.execute_input": "2023-05-22T15:33:13.178728Z",
     "iopub.status.busy": "2023-05-22T15:33:13.178378Z",
     "iopub.status.idle": "2023-05-22T15:33:13.184693Z",
     "shell.execute_reply": "2023-05-22T15:33:13.183686Z",
     "shell.execute_reply.started": "2023-05-22T15:33:13.178695Z"
    }
   },
   "outputs": [
    {
     "name": "stdout",
     "output_type": "stream",
     "text": [
      "3.8\n"
     ]
    }
   ],
   "source": [
    "print(pm.__version__)"
   ]
  },
  {
   "cell_type": "markdown",
   "metadata": {},
   "source": [
    "We define a function that will be helpful for plotting.  This function does little mathematically, but will give us very nice trace plots."
   ]
  },
  {
   "cell_type": "code",
   "execution_count": null,
   "metadata": {
    "execution": {
     "iopub.execute_input": "2022-11-08T01:35:27.09724Z",
     "iopub.status.busy": "2022-11-08T01:35:27.096606Z",
     "iopub.status.idle": "2022-11-08T01:35:27.113561Z",
     "shell.execute_reply": "2022-11-08T01:35:27.11198Z",
     "shell.execute_reply.started": "2022-11-08T01:35:27.097192Z"
    }
   },
   "outputs": [],
   "source": [
    "def plot_traces(traces, retain=0):\n",
    "    '''\n",
    "    Convenience function:\n",
    "    Plot traces with overlaid means and values\n",
    "    '''\n",
    "\n",
    "    ax = pm.traceplot(traces[-retain:],\n",
    "                      lines=tuple([(k, {}, v['mean'])\n",
    "                                   for k, v in pm.summary(traces[-retain:]).iterrows()]))\n",
    "\n",
    "    for i, mn in enumerate(pm.summary(traces[-retain:])['mean']):\n",
    "        ax[i,0].annotate('{:.2f}'.format(mn), xy=(mn,0), xycoords='data'\n",
    "                    ,xytext=(5,10), textcoords='offset points', rotation=90\n",
    "                    ,va='bottom', fontsize='large', color='#AA0022')"
   ]
  },
  {
   "cell_type": "markdown",
   "metadata": {},
   "source": [
    "Load the data and look a the data frame."
   ]
  },
  {
   "cell_type": "code",
   "execution_count": 4,
   "metadata": {
    "_cell_guid": "79c7e3d0-c299-4dcb-8224-4455121ee9b0",
    "_uuid": "d629ff2d2480ee46fbb7e2d37f6b5fab8052498a",
    "execution": {
     "iopub.execute_input": "2023-05-22T15:33:51.956509Z",
     "iopub.status.busy": "2023-05-22T15:33:51.956074Z",
     "iopub.status.idle": "2023-05-22T15:33:52.061631Z",
     "shell.execute_reply": "2023-05-22T15:33:52.060659Z",
     "shell.execute_reply.started": "2023-05-22T15:33:51.956470Z"
    }
   },
   "outputs": [
    {
     "name": "stdout",
     "output_type": "stream",
     "text": [
      "['Iris-setosa' 'Iris-versicolor' 'Iris-virginica']\n"
     ]
    },
    {
     "data": {
      "text/html": [
       "<div>\n",
       "<style scoped>\n",
       "    .dataframe tbody tr th:only-of-type {\n",
       "        vertical-align: middle;\n",
       "    }\n",
       "\n",
       "    .dataframe tbody tr th {\n",
       "        vertical-align: top;\n",
       "    }\n",
       "\n",
       "    .dataframe thead th {\n",
       "        text-align: right;\n",
       "    }\n",
       "</style>\n",
       "<table border=\"1\" class=\"dataframe\">\n",
       "  <thead>\n",
       "    <tr style=\"text-align: right;\">\n",
       "      <th></th>\n",
       "      <th>sepal_length</th>\n",
       "      <th>sepal_width</th>\n",
       "      <th>petal_length</th>\n",
       "      <th>petal_width</th>\n",
       "    </tr>\n",
       "  </thead>\n",
       "  <tbody>\n",
       "    <tr>\n",
       "      <th>count</th>\n",
       "      <td>150.000000</td>\n",
       "      <td>150.000000</td>\n",
       "      <td>150.000000</td>\n",
       "      <td>150.000000</td>\n",
       "    </tr>\n",
       "    <tr>\n",
       "      <th>mean</th>\n",
       "      <td>5.843333</td>\n",
       "      <td>3.054000</td>\n",
       "      <td>3.758667</td>\n",
       "      <td>1.198667</td>\n",
       "    </tr>\n",
       "    <tr>\n",
       "      <th>std</th>\n",
       "      <td>0.828066</td>\n",
       "      <td>0.433594</td>\n",
       "      <td>1.764420</td>\n",
       "      <td>0.763161</td>\n",
       "    </tr>\n",
       "    <tr>\n",
       "      <th>min</th>\n",
       "      <td>4.300000</td>\n",
       "      <td>2.000000</td>\n",
       "      <td>1.000000</td>\n",
       "      <td>0.100000</td>\n",
       "    </tr>\n",
       "    <tr>\n",
       "      <th>25%</th>\n",
       "      <td>5.100000</td>\n",
       "      <td>2.800000</td>\n",
       "      <td>1.600000</td>\n",
       "      <td>0.300000</td>\n",
       "    </tr>\n",
       "    <tr>\n",
       "      <th>50%</th>\n",
       "      <td>5.800000</td>\n",
       "      <td>3.000000</td>\n",
       "      <td>4.350000</td>\n",
       "      <td>1.300000</td>\n",
       "    </tr>\n",
       "    <tr>\n",
       "      <th>75%</th>\n",
       "      <td>6.400000</td>\n",
       "      <td>3.300000</td>\n",
       "      <td>5.100000</td>\n",
       "      <td>1.800000</td>\n",
       "    </tr>\n",
       "    <tr>\n",
       "      <th>max</th>\n",
       "      <td>7.900000</td>\n",
       "      <td>4.400000</td>\n",
       "      <td>6.900000</td>\n",
       "      <td>2.500000</td>\n",
       "    </tr>\n",
       "  </tbody>\n",
       "</table>\n",
       "</div>"
      ],
      "text/plain": [
       "       sepal_length  sepal_width  petal_length  petal_width\n",
       "count    150.000000   150.000000    150.000000   150.000000\n",
       "mean       5.843333     3.054000      3.758667     1.198667\n",
       "std        0.828066     0.433594      1.764420     0.763161\n",
       "min        4.300000     2.000000      1.000000     0.100000\n",
       "25%        5.100000     2.800000      1.600000     0.300000\n",
       "50%        5.800000     3.000000      4.350000     1.300000\n",
       "75%        6.400000     3.300000      5.100000     1.800000\n",
       "max        7.900000     4.400000      6.900000     2.500000"
      ]
     },
     "execution_count": 4,
     "metadata": {},
     "output_type": "execute_result"
    }
   ],
   "source": [
    "data = pd.read_csv('../input/iris-flower-dataset/IRIS.csv')\n",
    "data = data[['sepal_length','sepal_width','petal_length','petal_width','species']]\n",
    "print(np.unique(data['species']))\n",
    "data.describe()\n"
   ]
  },
  {
   "cell_type": "code",
   "execution_count": 5,
   "metadata": {
    "execution": {
     "iopub.execute_input": "2023-05-22T15:34:03.935740Z",
     "iopub.status.busy": "2023-05-22T15:34:03.935048Z",
     "iopub.status.idle": "2023-05-22T15:34:03.977960Z",
     "shell.execute_reply": "2023-05-22T15:34:03.977176Z",
     "shell.execute_reply.started": "2023-05-22T15:34:03.935689Z"
    }
   },
   "outputs": [
    {
     "data": {
      "text/plain": [
       "sepal_length    50.06\n",
       "sepal_width     34.18\n",
       "petal_length    14.64\n",
       "petal_width      2.44\n",
       "dtype: float64"
      ]
     },
     "execution_count": 5,
     "metadata": {},
     "output_type": "execute_result"
    }
   ],
   "source": [
    "data.loc[data['species'] == 'Iris-setosa',:].mean()*10"
   ]
  },
  {
   "cell_type": "code",
   "execution_count": 6,
   "metadata": {
    "execution": {
     "iopub.execute_input": "2023-05-22T15:34:07.364765Z",
     "iopub.status.busy": "2023-05-22T15:34:07.364252Z",
     "iopub.status.idle": "2023-05-22T15:34:07.389485Z",
     "shell.execute_reply": "2023-05-22T15:34:07.388490Z",
     "shell.execute_reply.started": "2023-05-22T15:34:07.364731Z"
    }
   },
   "outputs": [
    {
     "data": {
      "text/html": [
       "<div>\n",
       "<style scoped>\n",
       "    .dataframe tbody tr th:only-of-type {\n",
       "        vertical-align: middle;\n",
       "    }\n",
       "\n",
       "    .dataframe tbody tr th {\n",
       "        vertical-align: top;\n",
       "    }\n",
       "\n",
       "    .dataframe thead th {\n",
       "        text-align: right;\n",
       "    }\n",
       "</style>\n",
       "<table border=\"1\" class=\"dataframe\">\n",
       "  <thead>\n",
       "    <tr style=\"text-align: right;\">\n",
       "      <th></th>\n",
       "      <th>sepal_length</th>\n",
       "      <th>sepal_width</th>\n",
       "      <th>petal_length</th>\n",
       "      <th>petal_width</th>\n",
       "    </tr>\n",
       "  </thead>\n",
       "  <tbody>\n",
       "    <tr>\n",
       "      <th>sepal_length</th>\n",
       "      <td>1.242490</td>\n",
       "      <td>1.002980</td>\n",
       "      <td>0.161388</td>\n",
       "      <td>0.105469</td>\n",
       "    </tr>\n",
       "    <tr>\n",
       "      <th>sepal_width</th>\n",
       "      <td>1.002980</td>\n",
       "      <td>1.451796</td>\n",
       "      <td>0.116816</td>\n",
       "      <td>0.114367</td>\n",
       "    </tr>\n",
       "    <tr>\n",
       "      <th>petal_length</th>\n",
       "      <td>0.161388</td>\n",
       "      <td>0.116816</td>\n",
       "      <td>0.301061</td>\n",
       "      <td>0.056980</td>\n",
       "    </tr>\n",
       "    <tr>\n",
       "      <th>petal_width</th>\n",
       "      <td>0.105469</td>\n",
       "      <td>0.114367</td>\n",
       "      <td>0.056980</td>\n",
       "      <td>0.114939</td>\n",
       "    </tr>\n",
       "  </tbody>\n",
       "</table>\n",
       "</div>"
      ],
      "text/plain": [
       "              sepal_length  sepal_width  petal_length  petal_width\n",
       "sepal_length      1.242490     1.002980      0.161388     0.105469\n",
       "sepal_width       1.002980     1.451796      0.116816     0.114367\n",
       "petal_length      0.161388     0.116816      0.301061     0.056980\n",
       "petal_width       0.105469     0.114367      0.056980     0.114939"
      ]
     },
     "execution_count": 6,
     "metadata": {},
     "output_type": "execute_result"
    }
   ],
   "source": [
    "data.loc[data['species'] == 'Iris-setosa',:].cov()*10"
   ]
  },
  {
   "cell_type": "markdown",
   "metadata": {},
   "source": [
    "We are using the seaborn plottng library.  This enables a very nice pairs plot for our classes."
   ]
  },
  {
   "cell_type": "code",
   "execution_count": 7,
   "metadata": {
    "execution": {
     "iopub.execute_input": "2023-05-22T15:34:12.233156Z",
     "iopub.status.busy": "2023-05-22T15:34:12.232581Z",
     "iopub.status.idle": "2023-05-22T15:34:20.663763Z",
     "shell.execute_reply": "2023-05-22T15:34:20.659232Z",
     "shell.execute_reply.started": "2023-05-22T15:34:12.233098Z"
    }
   },
   "outputs": [
    {
     "data": {
      "image/png": "[encoded data removed]",
      "text/plain": [
       "<Figure size 823.25x720 with 20 Axes>"
      ]
     },
     "metadata": {
      "needs_background": "light"
     },
     "output_type": "display_data"
    }
   ],
   "source": [
    "g = sns.pairplot(data, hue=\"species\", palette=\"husl\", markers=[\"o\", \"s\", \"D\"])"
   ]
  },
  {
   "cell_type": "markdown",
   "metadata": {},
   "source": [
    "Now we perform our MCMC computaiton.  With pymc3, this is very easy.  We use the usual \"with\" declaration for pymc3, then use glm for our logistic model and just have to specidfy the formula, the data, and the family.  The family is what tells pymc3 that this will be logistic regression.\n",
    "\n",
    "We are going to use the default priors for GLM coefficients from PyMC3, which is $p(\\theta)=N(0,10^{12}I)$.  These are very weak priors."
   ]
  },
  {
   "cell_type": "code",
   "execution_count": null,
   "metadata": {
    "execution": {
     "iopub.execute_input": "2022-11-08T01:35:35.094285Z",
     "iopub.status.busy": "2022-11-08T01:35:35.093999Z"
    }
   },
   "outputs": [],
   "source": [
    "with pm.Model() as model:\n",
    "    pm.glm.GLM.from_formula(formula = 'species ~ sepal_length + sepal_width + petal_length + petal_width', \n",
    "                            data = data, \n",
    "                            family = pm.glm.families.Binomial())\n",
    "\n",
    "    trace = pm.sample(1000)"
   ]
  },
  {
   "cell_type": "markdown",
   "metadata": {},
   "source": [
    "Here are the variable names in the output.  "
   ]
  },
  {
   "cell_type": "code",
   "execution_count": null,
   "metadata": {},
   "outputs": [],
   "source": [
    "trace.varnames"
   ]
  },
  {
   "cell_type": "markdown",
   "metadata": {},
   "source": [
    "Here is our nice custom traceplot using the function plot_traces we defined previously."
   ]
  },
  {
   "cell_type": "code",
   "execution_count": null,
   "metadata": {},
   "outputs": [],
   "source": [
    "plot_traces(trace)"
   ]
  },
  {
   "cell_type": "code",
   "execution_count": null,
   "metadata": {},
   "outputs": [],
   "source": [
    "pm.plots.forestplot(trace, figsize=(12, 5))\n",
    "# The creates a matplotlib plot, so we can modify with standard matplotlib commands\n",
    "plt.grid()  # add a grid to the plot"
   ]
  },
  {
   "cell_type": "code",
   "execution_count": null,
   "metadata": {},
   "outputs": [],
   "source": [
    "plt.figure(figsize=(9,7))\n",
    "sns.jointplot(trace['petal_length'], trace['petal_width'], kind=\"hex\", color=\"#4CB391\")\n",
    "plt.xlabel(\"petal_length\")\n",
    "plt.ylabel(\"petal_width\");\n",
    "plt.show()\n",
    "\n",
    "plt.figure(figsize=(9,7))\n",
    "sns.jointplot(trace['sepal_length'], trace['sepal_width'], kind=\"hex\", color=\"#4CB391\")\n",
    "plt.xlabel(\"sepal_length\")\n",
    "plt.ylabel(\"sepal_width\");\n",
    "plt.show()"
   ]
  },
  {
   "cell_type": "code",
   "execution_count": null,
   "metadata": {},
   "outputs": [],
   "source": [
    "# Here are all pairs of variables in the scatterplot of the sampling.\n",
    "import arviz as az\n",
    "az.plot_pair(trace);"
   ]
  },
  {
   "cell_type": "markdown",
   "metadata": {},
   "source": [
    "q1: The forest plot shows that sepal length may have a coefficient  close to 0 because the 94% confidence interval includes 0, meaning it cant beruled out that the interval contains 0. From the pair plots it is apparent that the petal length and width are much more useful in predicting the type because the distributions for each type have much more separation than with the sepal length and width, where the distributions are somewhat on top of each other. "
   ]
  },
  {
   "cell_type": "markdown",
   "metadata": {},
   "source": [
    "q2: "
   ]
  },
  {
   "cell_type": "code",
   "execution_count": null,
   "metadata": {},
   "outputs": [],
   "source": [
    "import numpy as np \n",
    "import pandas as pd \n",
    "import seaborn as sns\n",
    "import matplotlib.pyplot as plt\n",
    "import statsmodels.api as sm\n",
    "from sklearn.preprocessing import StandardScaler\n",
    "from statsmodels.tools import add_constant\n",
    "from itertools import combinations\n",
    "from sklearn.model_selection import train_test_split"
   ]
  },
  {
   "cell_type": "code",
   "execution_count": null,
   "metadata": {},
   "outputs": [],
   "source": [
    "df = pd.read_csv('/kaggle/input/coronary-heart-disease/CHDdata.csv')\n",
    "df[\"famhist\"] = (df[\"famhist\"] == \"Present\")*1 # converts the famhit to 0 (no hist) and 1 (has hist)\n",
    "#df = df.drop([\"famhist\"], axis=1)\n",
    "df.head()"
   ]
  },
  {
   "cell_type": "code",
   "execution_count": null,
   "metadata": {},
   "outputs": [],
   "source": [
    "X = df.drop([\"chd\"], axis=1)\n",
    "y = df[\"chd\"]\n",
    "# building the model and fitting the data \n",
    "log_reg = sm.Logit(y, add_constant(X)).fit()\n",
    "log_reg.summary()"
   ]
  },
  {
   "cell_type": "code",
   "execution_count": null,
   "metadata": {},
   "outputs": [],
   "source": [
    "import seaborn as sns\n",
    "# Create the default pairplot\n",
    "g = sns.pairplot(df, hue=\"chd\", palette=\"tab10\", markers=[\"o\", \"D\"])"
   ]
  },
  {
   "cell_type": "code",
   "execution_count": null,
   "metadata": {},
   "outputs": [],
   "source": [
    "from mpmath import mp\n",
    "mp.dps = 50\n",
    "class BMA:\n",
    "    \n",
    "    def __init__(self, y, X, **kwargs):\n",
    "        # Setup the basic variables.\n",
    "        self.y = y\n",
    "        self.X = X\n",
    "        self.names = list(X.columns)\n",
    "        self.nRows, self.nCols = np.shape(X)\n",
    "        self.likelihoods = mp.zeros(self.nCols,1)\n",
    "        self.likelihoods_all = {}\n",
    "        self.coefficients_mp = mp.zeros(self.nCols,1)\n",
    "        self.coefficients = np.zeros(self.nCols)\n",
    "        self.probabilities = np.zeros(self.nCols)\n",
    "        # Check the max model size. (Max number of predictor variables to use in a model.)\n",
    "        # This can be used to reduce the runtime but not doing an exhaustive sampling.\n",
    "        if 'MaxVars' in kwargs.keys():\n",
    "            self.MaxVars = kwargs['MaxVars']\n",
    "        else:\n",
    "            self.MaxVars = self.nCols  \n",
    "        # Prepare the priors if they are provided.\n",
    "        # The priors are provided for the individual regressor variables.\n",
    "        # The prior for a model is the product of the priors on the variables in the model.\n",
    "        if 'Priors' in kwargs.keys():\n",
    "            if np.size(kwargs['Priors']) == self.nCols:\n",
    "                self.Priors = kwargs['Priors']\n",
    "            else:\n",
    "                print(\"WARNING: Provided priors error.  Using equal priors instead.\")\n",
    "                print(\"The priors should be a numpy array of length equal tot he number of regressor variables.\")\n",
    "                self.Priors = np.ones(self.nCols)  \n",
    "        else:\n",
    "            self.Priors = np.ones(self.nCols)  \n",
    "        if 'Verbose' in kwargs.keys():\n",
    "            self.Verbose = kwargs['Verbose'] \n",
    "        else:\n",
    "            self.Verbose = False \n",
    "        if 'RegType' in kwargs.keys():\n",
    "            self.RegType = kwargs['RegType'] \n",
    "        else:\n",
    "            self.RegType = 'LS' \n",
    "        \n",
    "    def fit(self):\n",
    "        # Perform the Bayesian Model Averaging\n",
    "        \n",
    "        # Initialize the sum of the likelihoods for all the models to zero.  \n",
    "        # This will be the 'normalization' denominator in Bayes Theorem.\n",
    "        likelighood_sum = 0\n",
    "        \n",
    "        # To facilitate iterating through all possible models, we start by iterating thorugh\n",
    "        # the number of elements in the model.  \n",
    "        max_likelihood = 0\n",
    "        for num_elements in range(1,self.MaxVars+1): \n",
    "            \n",
    "            if self.Verbose == True:\n",
    "                print(\"Computing BMA for models of size: \", num_elements)\n",
    "            \n",
    "            # Make a list of all index sets of models of this size.\n",
    "            Models_next = list(combinations(list(range(self.nCols)), num_elements)) \n",
    "             \n",
    "            # Occam's window - compute the candidate models to use for the next iteration\n",
    "            # Models_previous: the set of models from the previous iteration that satisfy (likelihhod > max_likelihhod/20)\n",
    "            # Models_next:     the set of candidate models for the next iteration\n",
    "            # Models_current:  the set of models from Models_next that can be consturcted by adding one new variable\n",
    "            #                    to a model from Models_previous\n",
    "            if num_elements == 1:\n",
    "                Models_current = Models_next\n",
    "                Models_previous = []\n",
    "            else:\n",
    "                idx_keep = np.zeros(len(Models_next))\n",
    "                for M_new,idx in zip(Models_next,range(len(Models_next))):\n",
    "                    for M_good in Models_previous:\n",
    "                        if(all(x in M_new for x in M_good)):\n",
    "                            idx_keep[idx] = 1\n",
    "                            break\n",
    "                        else:\n",
    "                            pass\n",
    "                Models_current = np.asarray(Models_next)[np.where(idx_keep==1)].tolist()\n",
    "                Models_previous = []\n",
    "                        \n",
    "            \n",
    "            # Iterate through all possible models of the given size.\n",
    "            for model_index_set in Models_current:\n",
    "                \n",
    "                # Compute the linear regression for this given model. \n",
    "                model_X = self.X.iloc[:,list(model_index_set)]\n",
    "                if self.RegType == 'Logit':\n",
    "                    model_regr = sm.Logit(self.y, model_X).fit(disp=0)\n",
    "                else:\n",
    "                    model_regr = OLS(self.y, model_X).fit()\n",
    "                \n",
    "                # Compute the likelihood (times the prior) for the model. \n",
    "                model_likelihood = mp.exp(-model_regr.bic/2)*np.prod(self.Priors[list(model_index_set)])\n",
    "                    \n",
    "                if (model_likelihood > max_likelihood/20):\n",
    "                    if self.Verbose == True:\n",
    "                        print(\"Model Variables:\",model_index_set,\"likelihood=\",model_likelihood)\n",
    "                    self.likelihoods_all[str(model_index_set)] = model_likelihood\n",
    "                    \n",
    "                    # Add this likelihood to the running tally of likelihoods.\n",
    "                    likelighood_sum = mp.fadd(likelighood_sum, model_likelihood)\n",
    "\n",
    "                    # Add this likelihood (times the priors) to the running tally\n",
    "                    # of likelihoods for each variable in the model.\n",
    "                    for idx, i in zip(model_index_set, range(num_elements)):\n",
    "                        self.likelihoods[idx] = mp.fadd(self.likelihoods[idx], model_likelihood, prec=1000)\n",
    "                        self.coefficients_mp[idx] = mp.fadd(self.coefficients_mp[idx], model_regr.params[i]*model_likelihood, prec=1000)\n",
    "                    Models_previous.append(model_index_set) # add this model to the list of good models\n",
    "                    max_likelihood = np.max([max_likelihood,model_likelihood]) # get the new max likelihood if it is this model\n",
    "                else:\n",
    "                    if self.Verbose == True:\n",
    "                        print(\"Model Variables:\",model_index_set,\"rejected by Occam's window\")\n",
    "                    \n",
    "\n",
    "        # Divide by the denominator in Bayes theorem to normalize the probabilities \n",
    "        # sum to one.\n",
    "        self.likelighood_sum = likelighood_sum\n",
    "        for idx in range(self.nCols):\n",
    "            self.probabilities[idx] = mp.fdiv(self.likelihoods[idx],likelighood_sum, prec=1000)\n",
    "            self.coefficients[idx] = mp.fdiv(self.coefficients_mp[idx],likelighood_sum, prec=1000)\n",
    "        \n",
    "        # Return the new BMA object as an output.\n",
    "        return self\n",
    "    \n",
    "    def predict(self, data):\n",
    "        data = np.asarray(data)\n",
    "        if self.RegType == 'Logit':\n",
    "            try:\n",
    "                result = 1/(1+np.exp(-1*np.dot(self.coefficients,data)))\n",
    "            except:\n",
    "                result = 1/(1+np.exp(-1*np.dot(self.coefficients,data.T)))\n",
    "        else:\n",
    "            try:\n",
    "                result = np.dot(self.coefficients,data)\n",
    "            except:\n",
    "                result = np.dot(self.coefficients,data.T)\n",
    "        \n",
    "        return result  \n",
    "        \n",
    "    def summary(self):\n",
    "        # Return the BMA results as a data frame for easy viewing.\n",
    "        df = pd.DataFrame([self.names, list(self.probabilities), list(self.coefficients)], \n",
    "             [\"Variable Name\", \"Probability\", \"Avg. Coefficient\"]).T\n",
    "        return df  "
   ]
  },
  {
   "cell_type": "code",
   "execution_count": null,
   "metadata": {},
   "outputs": [],
   "source": [
    "result = BMA(y,add_constant(X), RegType = 'Logit', Verbose=True).fit()"
   ]
  },
  {
   "cell_type": "code",
   "execution_count": null,
   "metadata": {},
   "outputs": [],
   "source": [
    "result.summary()"
   ]
  },
  {
   "cell_type": "markdown",
   "metadata": {},
   "source": [
    "part 1 "
   ]
  },
  {
   "cell_type": "code",
   "execution_count": null,
   "metadata": {},
   "outputs": [],
   "source": [
    "sns.barplot(\n",
    "        x=\"Probability\", \n",
    "    y=\"Variable Name\", \n",
    "    data=result.summary().sort_values('Probability', ascending = True))"
   ]
  },
  {
   "cell_type": "code",
   "execution_count": null,
   "metadata": {},
   "outputs": [],
   "source": [
    "sns.barplot(\n",
    "        x=\"Avg. Coefficient\", \n",
    "    y=\"Variable Name\", \n",
    "    data=result.summary().sort_values('Probability', ascending = True))"
   ]
  },
  {
   "cell_type": "markdown",
   "metadata": {},
   "source": []
  },
  {
   "cell_type": "markdown",
   "metadata": {},
   "source": [
    "part 3"
   ]
  },
  {
   "cell_type": "code",
   "execution_count": null,
   "metadata": {},
   "outputs": [],
   "source": [
    "scaled = X.drop(['famhist'], axis = 1)\n",
    "scale = StandardScaler()\n",
    "scale.fit(scaled)\n",
    "scaled = pd.DataFrame(scale.transform(scaled), columns = scaled.columns)\n",
    "scaled['famhist'] = X['famhist']\n",
    "result2 = BMA(y,add_constant(scaled), RegType = 'Logit', Verbose=False).fit()\n",
    "result2.summary()"
   ]
  },
  {
   "cell_type": "code",
   "execution_count": null,
   "metadata": {},
   "outputs": [],
   "source": [
    "sns.barplot(\n",
    "        x=\"Probability\", \n",
    "    y=\"Variable Name\", \n",
    "    data=result2.summary().sort_values('Probability', ascending = True))"
   ]
  },
  {
   "cell_type": "code",
   "execution_count": null,
   "metadata": {},
   "outputs": [],
   "source": [
    "sns.barplot(\n",
    "        x=\"Avg. Coefficient\", \n",
    "    y=\"Variable Name\", \n",
    "    data=result2.summary().sort_values('Probability', ascending = True))"
   ]
  },
  {
   "cell_type": "markdown",
   "metadata": {},
   "source": [
    "The first plot is largely the same - order and relative size of thebars are all the same.\n",
    "\n",
    "The second plot changes significantly - in the first famhist and const are the only vars with coefficients signficantly different from 0, in the second all variables present except sbp and obesity are signficiantly different from 0. Age in particular is signficant after looking at this graph. \n"
   ]
  },
  {
   "cell_type": "markdown",
   "metadata": {},
   "source": [
    "part4"
   ]
  },
  {
   "cell_type": "code",
   "execution_count": null,
   "metadata": {},
   "outputs": [],
   "source": [
    "# build test-train split\n",
    "X_train, X_test, y_train, y_test = train_test_split(X, y, test_size=.3, random_state=42)\n",
    "# trian on training data \n",
    "log_reg = sm.Logit(y_train, add_constant(X_train)).fit()\n",
    "result = BMA(y_train,add_constant(X_train), RegType = 'Logit', Verbose=False).fit()\n",
    "# predict the y-values from test data\n",
    "pred_BMA = result.predict(add_constant(X_test))\n",
    "pred_Logit = log_reg.predict(add_constant(X_test))\n",
    "# compute accuracy\n",
    "print(\"BMA Accuracy: \", np.sum((pred_BMA > 0.5) == y_test)/len(y_test))\n",
    "print(\"Logit Accuracy: \", np.sum((pred_Logit > 0.5) == y_test)/len(y_test))"
   ]
  },
  {
   "cell_type": "markdown",
   "metadata": {},
   "source": [
    "BMA is more accurate than the logit after the split, which is to be expected given the nature of the model. There are more effects from regularization when the training set is small. "
   ]
  },
  {
   "cell_type": "markdown",
   "metadata": {},
   "source": []
  },
  {
   "cell_type": "markdown",
   "metadata": {},
   "source": [
    "# Part 2. Logistic Regression for Predicting Coronary Heart Disease\n",
    "\n",
    "Now lets apply some Bayesian Regression techniques to a healthcare problem of determining risk for Coronary Heart Disease.  Logistic Regression is a great method for this problem because it provides esitmates of probability of heart disease and the Bayesian analysis provides insight into uncertainty and importance of the different predicotr variables."
   ]
  },
  {
   "cell_type": "markdown",
   "metadata": {},
   "source": [
    "question 3"
   ]
  },
  {
   "cell_type": "code",
   "execution_count": null,
   "metadata": {},
   "outputs": [],
   "source": [
    "chd_data = pd.read_csv(\"../input/coronary-heart-disease/CHDdata.csv\")\n",
    "chd_data.head()"
   ]
  },
  {
   "cell_type": "code",
   "execution_count": null,
   "metadata": {},
   "outputs": [],
   "source": [
    "chd_data.describe()"
   ]
  },
  {
   "cell_type": "code",
   "execution_count": null,
   "metadata": {},
   "outputs": [],
   "source": [
    "# Standardize the data (mean for each numerical variable of zero, standard deviation of one.)\n",
    "for key in chd_data.keys()[0:9]:\n",
    "    try:\n",
    "        print(\"Standardizing \"+key+\".\")\n",
    "        chd_data[key] = chd_data[key] - np.mean(chd_data[key])\n",
    "        chd_data[key] = chd_data[key] / np.std(chd_data[key])\n",
    "    except:\n",
    "        print(\"Predictor \"+key+\" cannot be standardized (probably a categorical variable).\")\n",
    "chd_data.describe()"
   ]
  },
  {
   "cell_type": "code",
   "execution_count": null,
   "metadata": {},
   "outputs": [],
   "source": [
    "# Lets check the mean of each class to get a first look at the seperation\n",
    "print(\"Mean for CHD Positive:\")\n",
    "print(np.array([chd_data[chd_data.chd == 1].mean()[0:8]]))\n",
    "print(\"Mean for CHD Negative:\")\n",
    "print(np.array([chd_data[chd_data.chd == 0].mean()[0:8]]))"
   ]
  },
  {
   "cell_type": "code",
   "execution_count": null,
   "metadata": {},
   "outputs": [],
   "source": [
    "chd_data.head()"
   ]
  },
  {
   "cell_type": "markdown",
   "metadata": {},
   "source": [
    "Now we can build our model in PYMC3 and examine the results:"
   ]
  },
  {
   "cell_type": "code",
   "execution_count": null,
   "metadata": {},
   "outputs": [],
   "source": [
    "with pm.Model() as model:\n",
    "  \n",
    "            \n",
    "    pm.glm.GLM.from_formula(formula = 'chd ~ sbp + tobacco + ldl + adiposity + typea + obesity + alcohol + age + famhist', \n",
    "                            data = chd_data, \n",
    "                            family = pm.glm.families.Binomial())\n",
    "\n",
    "    #trace = pm.sample(5000) \n",
    "    approx = pm.fit(50000, method = 'advi')"
   ]
  },
  {
   "cell_type": "code",
   "execution_count": null,
   "metadata": {},
   "outputs": [],
   "source": [
    "advi_elbo = pd.DataFrame(\n",
    "    {'ELBO': -approx.hist,\n",
    "     'n': np.arange(approx.hist.shape[0])})\n",
    "\n",
    "_ = sns.lineplot(y='ELBO', x='n', data=advi_elbo)"
   ]
  },
  {
   "cell_type": "code",
   "execution_count": null,
   "metadata": {},
   "outputs": [],
   "source": [
    "trace_VI = approx.sample(draws=5000)"
   ]
  },
  {
   "cell_type": "code",
   "execution_count": null,
   "metadata": {},
   "outputs": [],
   "source": [
    "plot_traces(trace_VI)"
   ]
  },
  {
   "cell_type": "code",
   "execution_count": null,
   "metadata": {},
   "outputs": [],
   "source": [
    "pm.plots.forestplot(trace_VI, figsize=(12, 5))\n",
    "# The creates a matplotlib plot, so we can modify with standard matplotlib commands\n",
    "plt.grid()  # add a grid to the plot"
   ]
  },
  {
   "cell_type": "code",
   "execution_count": null,
   "metadata": {},
   "outputs": [],
   "source": [
    "pm.summary(trace_VI).round(2)"
   ]
  },
  {
   "cell_type": "markdown",
   "metadata": {},
   "source": [
    "# For another example incorporating priors, see: https://towardsdatascience.com/bayesian-logistic-regression-with-pymc3-8e17c576f31a"
   ]
  },
  {
   "cell_type": "code",
   "execution_count": null,
   "metadata": {},
   "outputs": [],
   "source": [
    "# we will use this to get a -1 or 1 from the famhist\n",
    "1-2*(chd_data['famhist']=='Present')"
   ]
  },
  {
   "cell_type": "code",
   "execution_count": null,
   "metadata": {},
   "outputs": [],
   "source": [
    "with pm.Model() as second_model:\n",
    "#priors with normal distribution\n",
    "    beta_0=pm.Normal('beta_0', mu=0, sd=10**4)\n",
    "    beta_sbp=pm.Normal('beta_sbp', mu=0, sd=10**4)\n",
    "    beta_tobacco=pm.Normal('beta_tobacco',mu=0, sd=10**4)\n",
    "    beta_famhist=pm.Normal('beta_famhist',mu=0, sd=10**4)\n",
    "#probability of belonging to class 1\n",
    "    p = pm.Deterministic('p',pm.math.sigmoid(beta_0+\n",
    "                    beta_sbp*chd_data['sbp']+\n",
    "                    beta_tobacco*chd_data['tobacco']+\n",
    "                    beta_famhist*(1-2*(chd_data['famhist']=='Present'))))\n",
    "#fit observed data into the model\n",
    "with second_model:\n",
    "    observed=pm.Bernoulli (\"chd\",p, observed=chd_data['chd'])\n",
    "    start=pm.find_MAP()\n",
    "    step=pm.Metropolis()\n",
    "    second_trace=pm.sample(25000, step=step, start=start)\n",
    "    second_burned_trace=second_trace[15000:]\n",
    "    pm.traceplot(second_burned_trace)\n",
    "    plt.show()"
   ]
  },
  {
   "cell_type": "code",
   "execution_count": null,
   "metadata": {},
   "outputs": [],
   "source": [
    "pm.plots.forestplot(second_burned_trace, figsize=(12,100))\n",
    "plt.grid()"
   ]
  },
  {
   "cell_type": "markdown",
   "metadata": {},
   "source": [
    "results in line with part 2"
   ]
  }
 ],
 "metadata": {
  "kernelspec": {
   "display_name": "Python 3 (ipykernel)",
   "language": "python",
   "name": "python3"
  },
  "language_info": {
   "codemirror_mode": {
    "name": "ipython",
    "version": 3
   },
   "file_extension": ".py",
   "mimetype": "text/x-python",
   "name": "python",
   "nbconvert_exporter": "python",
   "pygments_lexer": "ipython3",
   "version": "3.8.10"
  }
 },
 "nbformat": 4,
 "nbformat_minor": 4
}
